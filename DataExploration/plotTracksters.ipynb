{
 "cells": [
  {
   "cell_type": "code",
   "execution_count": 27,
   "id": "94b63736-efe0-4e18-b616-7727ee413150",
   "metadata": {},
   "outputs": [],
   "source": [
    "import uproot\n",
    "import os\n",
    "import numpy as np\n",
    "import pandas as pd\n",
    "import matplotlib.pyplot  as plt\n",
    "import awkward as ak\n",
    "import sys\n",
    "import seaborn as sns\n",
    "\n",
    "sys.path.append(\"../\")\n",
    "\n",
    "from utils.preprocessing import Preprocessor\n",
    "\n",
    "import mplhep as hep\n",
    "hep.style.use(hep.style.ROOT) # For now ROOT defaults to CMS"
   ]
  },
  {
   "cell_type": "code",
   "execution_count": null,
   "id": "1a207412-3df5-4c13-b7fb-d2b90a088458",
   "metadata": {},
   "outputs": [],
   "source": [
    "# TODO: Write a script that plots all Trackster quantities"
   ]
  },
  {
   "cell_type": "code",
   "execution_count": null,
   "id": "d86bc74e-b528-4bd0-aa87-2f2116c5f74b",
   "metadata": {},
   "outputs": [],
   "source": [
    "# Trackster Energies"
   ]
  },
  {
   "cell_type": "code",
   "execution_count": null,
   "id": "ec72b092-b0ca-44b2-a11e-f4ce95cf39cc",
   "metadata": {},
   "outputs": [],
   "source": [
    "# Trackster Fractions of CP energy"
   ]
  },
  {
   "cell_type": "code",
   "execution_count": null,
   "id": "e404c9b5-fa60-4871-8382-67d89743d0a8",
   "metadata": {},
   "outputs": [],
   "source": [
    "# Trackster Fraction of Summed Trackster energy"
   ]
  }
 ],
 "metadata": {
  "kernelspec": {
   "display_name": "Python 3 (ipykernel)",
   "language": "python",
   "name": "python3"
  },
  "language_info": {
   "codemirror_mode": {
    "name": "ipython",
    "version": 3
   },
   "file_extension": ".py",
   "mimetype": "text/x-python",
   "name": "python",
   "nbconvert_exporter": "python",
   "pygments_lexer": "ipython3",
   "version": "3.9.18"
  }
 },
 "nbformat": 4,
 "nbformat_minor": 5
}
