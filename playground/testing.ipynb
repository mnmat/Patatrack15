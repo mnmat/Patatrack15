{
 "cells": [
  {
   "cell_type": "code",
   "execution_count": 10,
   "id": "bcbadce7-e500-42ae-9c39-dbf89f61a65c",
   "metadata": {},
   "outputs": [],
   "source": [
    "import os\n",
    "import numpy as np\n",
    "import pandas as pd\n",
    "import uproot\n",
    "import matplotlib.pyplot as plt\n",
    "import awkward as ak"
   ]
  },
  {
   "cell_type": "code",
   "execution_count": 106,
   "id": "2e7fc00c-fd6b-42d8-be4f-15f99cec5a4c",
   "metadata": {},
   "outputs": [],
   "source": [
    "\n",
    "path = \"/Users/markmatthewman/Projects/Patatrack15/data/SamplesV2/CloseByPion/histo\"\n",
    "\n",
    "v_cp_energy = []\n",
    "v_tkx_energy = []\n",
    "v_cp_tkx_energy_frac = []\n",
    "v_tkx_numtkx = []\n",
    "v_weighted_bar_x = []\n",
    "v_weighted_bar_y = []\n",
    "v_weighted_bar_z = []\n",
    "v_cee_120 = []\n",
    "v_cee_200 = []\n",
    "v_cee_300 = []\n",
    "v_ceh_120 = []\n",
    "v_ceh_200 = []\n",
    "v_ceh_300 = []\n",
    "v_ceh_scint = []\n",
    "\n",
    "def applyFilters(features,idx):\n",
    "    for feature in features:\n",
    "        feature\n",
    "    return features\n",
    "\n",
    "\n",
    "for root, dirs, files in os.walk(path):\n",
    "    for file in files:\n",
    "        if \".root\" in file:\n",
    "            f = uproot.open(os.path.join(path,file))\n",
    "\n",
    "            # Energy Measures\n",
    "            tkx_energy = np.array([ak.sum(x) for x in f[\"ticlDumper/trackstersMerged\"][\"raw_energy\"].array()])\n",
    "            cp_energy = np.array([ak.sum(x) for x in f[\"ticlDumper/simtrackstersCP\"][\"regressed_energy\"].array()])\n",
    "            cp_tkx_energy_frac = energy/cp_energy\n",
    "            \n",
    "            # Number of Tracksters\n",
    "            tkx_numtkx =np.array([ak.count(x) for x in f[\"ticlDumper/trackstersMerged\"][\"raw_energy\"].array()])\n",
    "\n",
    "            # Barycenter\n",
    "            bar_x = f[\"ticlDumper/trackstersMerged\"][\"barycenter_x\"].array(library=\"np\")\n",
    "            bar_y = f[\"ticlDumper/trackstersMerged\"][\"barycenter_y\"].array(library=\"np\")\n",
    "            bar_z = f[\"ticlDumper/trackstersMerged\"][\"barycenter_z\"].array(library=\"np\")\n",
    "            weights = [np.array(x)/np.sum(np.array(x)) for x in f[\"ticlDumper/trackstersMerged\"][\"raw_energy\"].array()]\n",
    "\n",
    "            weighted_bar_x = np.array([np.sum([x*l]) for x, l in zip(weights, bar_x)])\n",
    "            weighted_bar_y = np.array([np.sum([x*l]) for x, l in zip(weights, bar_y)])\n",
    "            weighted_bar_z = np.array([np.sum([x*l]) for x, l in zip(weights, bar_z)])\n",
    "\n",
    "            # Split by Cell Type\n",
    "            cell_types = [np.array(ak.sum(x,axis=0))/l for x, l in zip(f[\"ticlDumper/trackstersMerged\"][\"raw_energy_perCellType\"].array(), tkx_energy)]\n",
    "\n",
    "            # Filter Events\n",
    "            f1_idx = np.where(tkx_energy==0)    # Exclude Tracksters with no energies\n",
    "            f2_idx = np.where(cp_energy<10)        # Exclude CPs with energies less than 10 GeV\n",
    "            f_idx = np.union1d(f1_idx,f2_idx)   \n",
    "            \n",
    "\n",
    "            # Write quantities\n",
    "\n",
    "            v_cp_energy.append(np.delete(cp_e, f_idx))\n",
    "            v_tkx_energy.append(np.delete(tkx_energy,f_idx))\n",
    "            v_cp_tkx_energy_frac.append(np.delete(tkx_energy/cp_energy,f_idx))\n",
    "            v_tkx_numtkx.append(np.delete(tkx_numtkx,f_idx))\n",
    "            v_weighted_bar_x.append(np.delete(weighted_bar_x,f_idx))\n",
    "            v_weighted_bar_y.append(np.delete(weighted_bar_y,f_idx))\n",
    "            v_weighted_bar_z.append(np.delete(weighted_bar_z,f_idx))\n",
    "            \n",
    "            # Split Energy per Cell\n",
    "            cell_types = [i for j, i in enumerate(cell_types) if j not in f_idx]\n",
    "            cell_types = np.array(cell_types)\n",
    "            v_cee_120.append(cell_types[:,0])\n",
    "            v_cee_200.append(cell_types[:,1])\n",
    "            v_cee_300.append(cell_types[:,2])\n",
    "            v_ceh_120.append(cell_types[:,3])\n",
    "            v_ceh_200.append(cell_types[:,4])\n",
    "            v_ceh_300.append(cell_types[:,5])\n",
    "            v_ceh_scint.append(cell_types[:,6])\n",
    "\n",
    "    \n",
    "        "
   ]
  },
  {
   "cell_type": "code",
   "execution_count": 97,
   "id": "8eedd349",
   "metadata": {},
   "outputs": [],
   "source": [
    "cell_types = [np.array(ak.sum(x,axis=0)) for x in f[\"ticlDumper/trackstersMerged\"][\"raw_energy_perCellType\"].array()]\n"
   ]
  },
  {
   "cell_type": "code",
   "execution_count": 99,
   "id": "529f6a89",
   "metadata": {},
   "outputs": [
    {
     "name": "stdout",
     "output_type": "stream",
     "text": [
      "37 []\n",
      "38 []\n",
      "52 []\n",
      "76 []\n"
     ]
    }
   ],
   "source": [
    "for i,ele in enumerate(cell_types):\n",
    "    if len(ele)!=7:\n",
    "        print(i,ele)"
   ]
  },
  {
   "cell_type": "code",
   "execution_count": 104,
   "id": "ec5b061c",
   "metadata": {},
   "outputs": [
    {
     "data": {
      "text/plain": [
       "163.40387"
      ]
     },
     "execution_count": 104,
     "metadata": {},
     "output_type": "execute_result"
    }
   ],
   "source": [
    "[40]"
   ]
  },
  {
   "cell_type": "code",
   "execution_count": 105,
   "id": "e834c44e",
   "metadata": {},
   "outputs": [
    {
     "data": {
      "text/plain": [
       "150.99785"
      ]
     },
     "execution_count": 105,
     "metadata": {},
     "output_type": "execute_result"
    }
   ],
   "source": [
    "np.sum(cell_types[40])"
   ]
  },
  {
   "cell_type": "code",
   "execution_count": 96,
   "id": "f5a74a35-8040-4257-83cc-980e256f549a",
   "metadata": {},
   "outputs": [
    {
     "name": "stdout",
     "output_type": "stream",
     "text": [
      "37 0\n",
      "[]\n",
      "38 0\n",
      "[]\n",
      "52 0\n",
      "[]\n",
      "74 0\n",
      "[]\n"
     ]
    }
   ],
   "source": [
    "for i,ele in enumerate(cell_types):\n",
    "    if ele.size!=7:\n",
    "        print(i,ele.size)\n",
    "        print(ele)"
   ]
  },
  {
   "cell_type": "code",
   "execution_count": 26,
   "id": "2993992b",
   "metadata": {},
   "outputs": [
    {
     "data": {
      "text/plain": [
       "['event',\n",
       " 'NTracksters',\n",
       " 'time',\n",
       " 'timeBoundary',\n",
       " 'timeError',\n",
       " 'regressed_energy',\n",
       " 'regressed_pt',\n",
       " 'raw_energy',\n",
       " 'raw_em_energy',\n",
       " 'raw_pt',\n",
       " 'raw_em_pt',\n",
       " 'barycenter_x',\n",
       " 'barycenter_y',\n",
       " 'barycenter_z',\n",
       " 'barycenter_eta',\n",
       " 'barycenter_phi',\n",
       " 'pdgID',\n",
       " 'trackIdx',\n",
       " 'trackTime',\n",
       " 'boundaryX',\n",
       " 'boundaryY',\n",
       " 'boundaryZ',\n",
       " 'boundaryEta',\n",
       " 'boundaryPhi',\n",
       " 'boundaryPx',\n",
       " 'boundaryPy',\n",
       " 'boundaryPz',\n",
       " 'track_boundaryX',\n",
       " 'track_boundaryY',\n",
       " 'track_boundaryZ',\n",
       " 'track_boundaryEta',\n",
       " 'track_boundaryPhi',\n",
       " 'track_boundaryPx',\n",
       " 'track_boundaryPy',\n",
       " 'track_boundaryPz',\n",
       " 'EV1',\n",
       " 'EV2',\n",
       " 'EV3',\n",
       " 'eVector0_x',\n",
       " 'eVector0_y',\n",
       " 'eVector0_z',\n",
       " 'sigmaPCA1',\n",
       " 'sigmaPCA2',\n",
       " 'sigmaPCA3',\n",
       " 'id_probabilities',\n",
       " 'vertices_indexes',\n",
       " 'vertices_x',\n",
       " 'vertices_y',\n",
       " 'vertices_z',\n",
       " 'vertices_time',\n",
       " 'vertices_timeErr',\n",
       " 'vertices_energy',\n",
       " 'vertices_correctedEnergy',\n",
       " 'vertices_correctedEnergyUncertainty',\n",
       " 'vertices_multiplicity']"
      ]
     },
     "execution_count": 26,
     "metadata": {},
     "output_type": "execute_result"
    }
   ],
   "source": [
    "f[\"ticlDumper/simtrackstersCP\"].keys()"
   ]
  },
  {
   "cell_type": "code",
   "execution_count": null,
   "id": "238bc8fd",
   "metadata": {},
   "outputs": [],
   "source": []
  },
  {
   "cell_type": "code",
   "execution_count": 30,
   "id": "96072649",
   "metadata": {},
   "outputs": [
    {
     "name": "stdout",
     "output_type": "stream",
     "text": [
      "regressed_energy [[67.9], [325], [447], [473], [47.7], ..., [152], [487], [23.9], [257], [566]]\n",
      "raw_energy [[51.1], [338], [412], [429], [39.7], ..., [134], [402], [22.7], [217], [524]]\n",
      "raw_em_energy [[13.4], [8.58], [373], [81.4], [0.389], ..., [9.66], [0.139], [0.478], [393]]\n",
      "vertices_energy [[[5.14, 4.91, 3.85, 3.16, 1.9, ..., 0.0253, 0.0239, 0.0232, 0.0211]], ...]\n"
     ]
    }
   ],
   "source": [
    "keys = f[\"ticlDumper/simtrackstersCP\"].keys()\n",
    "\n",
    "for key in keys:\n",
    "    if \"energy\" in key:\n",
    "        print(key, f[\"ticlDumper/simtrackstersCP\"][key].array())"
   ]
  },
  {
   "cell_type": "code",
   "execution_count": null,
   "id": "ec730ada",
   "metadata": {},
   "outputs": [],
   "source": []
  }
 ],
 "metadata": {
  "kernelspec": {
   "display_name": "Python 3 (ipykernel)",
   "language": "python",
   "name": "python3"
  },
  "language_info": {
   "codemirror_mode": {
    "name": "ipython",
    "version": 3
   },
   "file_extension": ".py",
   "mimetype": "text/x-python",
   "name": "python",
   "nbconvert_exporter": "python",
   "pygments_lexer": "ipython3",
   "version": "3.9.18"
  }
 },
 "nbformat": 4,
 "nbformat_minor": 5
}
