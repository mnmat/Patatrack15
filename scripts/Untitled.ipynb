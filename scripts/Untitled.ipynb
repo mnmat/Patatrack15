{
 "cells": [
  {
   "cell_type": "code",
   "execution_count": 1,
   "id": "f6dd5dbf",
   "metadata": {},
   "outputs": [],
   "source": [
    "import pandas as pd\n",
    "import numpy as np\n",
    "import uproot\n",
    "import os\n",
    "import xgboost as xgb\n",
    "import awkward as ak\n",
    "from sklearn.model_selection import train_test_split\n",
    "import matplotlib.pyplot as plt"
   ]
  },
  {
   "cell_type": "code",
   "execution_count": 2,
   "id": "0dfceaf4",
   "metadata": {},
   "outputs": [
    {
     "name": "stdout",
     "output_type": "stream",
     "text": [
      "histo_9373196_109.root contains faulty event!!! Excluded for now!!!\n",
      "histo_9373196_127.root contains faulty event!!! Excluded for now!!!\n",
      "histo_9373196_128.root contains faulty event!!! Excluded for now!!!\n",
      "histo_9373196_13.root contains faulty event!!! Excluded for now!!!\n",
      "histo_9373196_137.root contains faulty event!!! Excluded for now!!!\n",
      "histo_9373196_14.root contains faulty event!!! Excluded for now!!!\n",
      "histo_9373196_142.root contains faulty event!!! Excluded for now!!!\n",
      "histo_9373196_144.root contains faulty event!!! Excluded for now!!!\n",
      "histo_9373196_15.root contains faulty event!!! Excluded for now!!!\n",
      "histo_9373196_23.root contains faulty event!!! Excluded for now!!!\n",
      "histo_9373196_36.root contains faulty event!!! Excluded for now!!!\n",
      "histo_9373196_37.root contains faulty event!!! Excluded for now!!!\n",
      "histo_9373196_38.root contains faulty event!!! Excluded for now!!!\n",
      "histo_9373196_4.root contains faulty event!!! Excluded for now!!!\n",
      "histo_9373196_40.root contains faulty event!!! Excluded for now!!!\n",
      "histo_9373196_44.root contains faulty event!!! Excluded for now!!!\n",
      "histo_9373196_48.root contains faulty event!!! Excluded for now!!!\n"
     ]
    }
   ],
   "source": [
    "# Produce Data\n",
    "\n",
    "\n",
    "path = \"/eos/cms/store/group/dpg_hgcal/comm_hgcal/mmatthew/Patatrack15/Samples/CloseByPion/histo\"\n",
    "\n",
    "cp_energy = []\n",
    "tkx_energy = []\n",
    "tkx_nclus = []\n",
    "tkx_barycentre = []\n",
    "tkx_energyfraction = []\n",
    "frac_energy = []\n",
    "tkx_numtkx = []\n",
    "cell_type = []\n",
    "weighted_bar_x = []\n",
    "weighted_bar_y = []\n",
    "weighted_bar_z = []\n",
    "\n",
    "\n",
    "for root, dirs, files in os.walk(path):\n",
    "    for i,file in enumerate(files):\n",
    "        if i >= 100 :\n",
    "            break\n",
    "        f = uproot.open(os.path.join(path,file))\n",
    "        energy = np.array([ak.sum(x) for x in f[\"ticlDumper/trackstersMerged\"][\"raw_energy\"].array()])\n",
    "        if (energy==0).any(): \n",
    "            print(file, \"contains faulty event!!! Excluded for now!!!\")\n",
    "            continue       \n",
    "        \n",
    "        cp_energy.append([ak.sum(x) for x in f[\"ticlDumper/simtrackstersCP\"][\"regressed_energy\"].array()])\n",
    "        tkx_energy.append([ak.sum(x) for x in f[\"ticlDumper/trackstersMerged\"][\"raw_energy\"].array()])  \n",
    "        tkx_numtkx.append([ak.count(x) for x in f[\"ticlDumper/trackstersMerged\"][\"raw_energy\"].array()])\n",
    "        \n",
    "        bar_x = f[\"ticlDumper/trackstersMerged\"][\"barycenter_x\"].array(library=\"np\")\n",
    "        bar_y = f[\"ticlDumper/trackstersMerged\"][\"barycenter_y\"].array(library=\"np\")\n",
    "        bar_z = f[\"ticlDumper/trackstersMerged\"][\"barycenter_z\"].array(library=\"np\")\n",
    "\n",
    "        weights = [np.array(x)/np.sum(np.array(x)) for x in f[\"ticlDumper/trackstersMerged\"][\"raw_energy\"].array()]\n",
    "\n",
    "        weighted_bar_x.append([np.sum([x*l]) for x, l in zip(weights, bar_x)])\n",
    "        weighted_bar_y.append([np.sum([x*l]) for x, l in zip(weights, bar_y)])\n",
    "        weighted_bar_z.append([np.sum([x*l]) for x, l in zip(weights, bar_z)])\n",
    "        \n",
    "        cell_type.append([np.array(ak.sum(x,axis=0)) for x in f[\"ticlDumper/trackstersMerged\"][\"raw_energy_perCellType\"].array()])\n",
    "                \n",
    "\n",
    "        \n",
    "cell_type = np.array([y for x in cell_type for y in x])\n",
    "frac = np.array(cell_type)/np.array(tkx_energy).reshape(-1, 1)\n",
    "d1, d2, d3, d4, d5, d6, d7 = np.hsplit(frac, 7)\n",
    "cp_energy = np.array(cp_energy).flatten()\n",
    "tkx_energy = np.array(tkx_energy).flatten()\n",
    "tkx_numtkx = np.array(tkx_numtkx).flatten()\n",
    "weighted_bar_x = np.array(weighted_bar_x).flatten()\n",
    "weighted_bar_y = np.array(weighted_bar_y).flatten()\n",
    "weighted_bar_z = np.array(weighted_bar_z).flatten()"
   ]
  },
  {
   "cell_type": "code",
   "execution_count": 3,
   "id": "38df103a",
   "metadata": {},
   "outputs": [],
   "source": [
    "# Create DataFrame\n",
    "d = {\n",
    "    \"frac\": np.array(tkx_energy).flatten()/np.array(cp_energy).flatten(),\n",
    "    \"cp_energy\":cp_energy,\n",
    "    \"tkx_energy\":tkx_energy,\n",
    "    \"tkx_numtkx\":tkx_numtkx,\n",
    "    \"weighted_bar_x\":weighted_bar_x,\n",
    "    \"weighted_bar_y\":weighted_bar_y,\n",
    "    \"weighted_bar_z\":weighted_bar_z,\n",
    "    \"CE_E_120\":d1.flatten(),\n",
    "    \"CE_E_200\":d2.flatten(),\n",
    "    \"CE_E_300\":d3.flatten(),\n",
    "    \"CE_H_120\":d4.flatten(),\n",
    "    \"CE_H_200\":d5.flatten(),\n",
    "    \"CE_H_300\":d6.flatten(),\n",
    "    \"CE_H_SCINT\":d7.flatten()\n",
    "}\n",
    "\n",
    "df = pd.DataFrame(d)"
   ]
  },
  {
   "cell_type": "code",
   "execution_count": 4,
   "id": "0ef766ca",
   "metadata": {},
   "outputs": [],
   "source": [
    "df \n",
    "train, test = train_test_split(df, test_size=0.2)\n",
    "y_train = train[\"cp_energy\"]\n",
    "X_train = train.drop([\"frac\",\"cp_energy\"],axis=1)\n",
    "y_test = test[\"cp_energy\"]\n",
    "X_test = test.drop([\"frac\",\"cp_energy\"],axis=1)"
   ]
  },
  {
   "cell_type": "code",
   "execution_count": 5,
   "id": "17838296",
   "metadata": {},
   "outputs": [],
   "source": [
    "regressor=xgb.XGBRegressor(learning_rate = 0.005,\n",
    "                           n_estimators  = 1700,\n",
    "                           max_depth     = 3,\n",
    "                           eval_metric='rmse')"
   ]
  },
  {
   "cell_type": "code",
   "execution_count": 6,
   "id": "53fdb807",
   "metadata": {},
   "outputs": [],
   "source": [
    "regressor.fit(X_train, y_train)\n",
    "\n",
    "#=========================================================================\n",
    "# To use early_stopping_rounds: \n",
    "# \"Validation metric needs to improve at least once in every \n",
    "# early_stopping_rounds round(s) to continue training.\"\n",
    "#=========================================================================\n",
    "# first perform a test/train split \n",
    "#from sklearn.model_selection import train_test_split\n",
    "\n",
    "#X_train,X_test,y_train,y_test = train_test_split(X_train,y_train, test_size = 0.2)\n",
    "#regressor.fit(X_train, y_train, early_stopping_rounds=6, eval_set=[(X_test, y_test)], verbose=False)\n",
    "\n",
    "#=========================================================================\n",
    "# use the model to predict the prices for the test data\n",
    "#=========================================================================\n",
    "predictions = regressor.predict(X_test)"
   ]
  },
  {
   "cell_type": "code",
   "execution_count": 7,
   "id": "89b487ee",
   "metadata": {},
   "outputs": [
    {
     "data": {
      "text/plain": [
       "<matplotlib.legend.Legend at 0x7faae023a1f0>"
      ]
     },
     "execution_count": 7,
     "metadata": {},
     "output_type": "execute_result"
    },
    {
     "data": {
      "image/png": "[encoded data removed]",
      "text/plain": [
       "<Figure size 432x288 with 1 Axes>"
      ]
     },
     "metadata": {
      "needs_background": "light"
     },
     "output_type": "display_data"
    }
   ],
   "source": [
    "plt.hist(test[\"frac\"],range=[0,2],bins = 25,alpha=0.5,label=\"data\")\n",
    "plt.hist(predictions/test[\"cp_energy\"],range=[0,2],bins = 25,alpha=0.5,label=\"prediction\")\n",
    "plt.legend()"
   ]
  },
  {
   "cell_type": "code",
   "execution_count": null,
   "id": "8dc349a2",
   "metadata": {},
   "outputs": [],
   "source": []
  }
 ],
 "metadata": {
  "@webio": {
   "lastCommId": null,
   "lastKernelId": null
  },
  "kernelspec": {
   "display_name": "Python 3",
   "language": "python",
   "name": "python3"
  },
  "language_info": {
   "codemirror_mode": {
    "name": "ipython",
    "version": 3
   },
   "file_extension": ".py",
   "mimetype": "text/x-python",
   "name": "python",
   "nbconvert_exporter": "python",
   "pygments_lexer": "ipython3",
   "version": "3.9.12"
  }
 },
 "nbformat": 4,
 "nbformat_minor": 5
}
